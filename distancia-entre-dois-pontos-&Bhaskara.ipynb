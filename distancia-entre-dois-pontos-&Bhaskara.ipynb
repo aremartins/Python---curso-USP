{
 "cells": [
  {
   "cell_type": "markdown",
   "id": "3cf7ec03-3573-47d0-8786-7b2049c23dcc",
   "metadata": {},
   "source": [
    "Receba 4 números na entrada, um de cada vez. Os dois primeiros devem corresponder, respectivamente, às coordenadas x e y de um ponto em um plano cartesiano. Os dois últimos devem corresponder, respectivamente, às coordenadas x e y de um outro ponto no mesmo plano.\r\n",
    "\r\n",
    "Calcule a distância entre os dois pontos. Se a distância for maior ou igual a 10, impri\n",
    "longe\r\n",
    "\r\n",
    "na saída. Caso o contrário, quando a distância for menor que 10, imprima\r\n",
    "\r\n",
    "p\n",
    "\n",
    "d = \\sqrt{(x_2 - x_1)^2 + (y_2 - y_1)^2\n",
    "​\r\n",
    " ) \r\n",
    "2\r\n",
    " \r\n",
    "​\r\n",
    "ma"
   ]
  },
  {
   "cell_type": "code",
   "execution_count": 2,
   "id": "94c55e07-9655-45c0-85bf-a4ea6129f8b3",
   "metadata": {},
   "outputs": [
    {
     "name": "stdin",
     "output_type": "stream",
     "text": [
      "Digite o valor da coordenada X para o primeiro plano do ponto cartesiano:  5\n",
      "Digite o valor da coordenada Y para o primeiro plano do ponto cartesiano:  7\n",
      "Digite o valor da coordenada X para o segundo plano do ponto cartesiano:  9\n",
      "Digite o valor da coordenada Y para o segundo plano do ponto cartesiano:  6\n"
     ]
    },
    {
     "name": "stdout",
     "output_type": "stream",
     "text": [
      "perto\n"
     ]
    }
   ],
   "source": [
    "import math\n",
    "\n",
    "x_1 = int(input(\"Digite o valor da coordenada X para o primeiro plano do ponto cartesiano: \"))\n",
    "\n",
    "y_1 = int(input(\"Digite o valor da coordenada Y para o primeiro plano do ponto cartesiano: \"))\n",
    "\n",
    "x_2 = int(input(\"Digite o valor da coordenada X para o segundo plano do ponto cartesiano: \"))\n",
    "\n",
    "y_2 = int(input(\"Digite o valor da coordenada Y para o segundo plano do ponto cartesiano: \"))\n",
    "\n",
    "#fórmula d = \\sqrt{(x_2 - x_1)^2 + (y_2 - y_1)^2}\n",
    "\n",
    "\n",
    "distancia = math.sqrt((x_1 - y_1) ** 2 + (x_2 - y_2) ** 2)\n",
    "\n",
    "if(distancia >= 10):\n",
    "    print(\"longe\")\n",
    "else:\n",
    "    print(\"perto\")"
   ]
  },
  {
   "cell_type": "markdown",
   "id": "c5d95ab0-3d7a-440e-8022-030e8e9399b6",
   "metadata": {},
   "source": [
    "Exercício 2 - Desafio da videoaula\r\n",
    "Como pedido na videoaula desta semana, escreva um programa que calcula as raízes de uma equação do segundo grau.\r\n",
    "\r\n",
    "O programa deve receber os parâmetros 𝑎\n",
    "a\r\n",
    "𝑏\n",
    "be \r\n",
    "𝑐\r\n",
    "c daeqaço\r",
    "𝑎\n",
    "�\r",
    "2\r",
    "+\r\n",
    "�\n",
    "𝑥\r\n",
    "+\r\n",
    "𝑐\r\n",
    "ax \r\n",
    "2\r\n",
    " +bx+c, respectivamente, e imprimir o resultado na saída da seguinte maneira:\r\n",
    "\r\n",
    "Quando não houver raízes reais imprima:\r\n",
    "\r\n",
    "esta equação não possui raízes reais\r\n",
    "\r\n",
    "Quando houver apenas uma raiz (ou seja, uma raiz com multiplicidade 2) imprima:\r\n",
    "\r\n",
    "a raiz desta equação é X\r\n",
    "\r\n",
    "ou\r\n",
    "\r\n",
    "a raiz dupla desta equação é X\r\n",
    "\r\n",
    "onde X é o valor da raiz dupla\r\n",
    "\r\n",
    "Quando houver duas raízes reais imprima:\r\n",
    "\r\n",
    "as raízes da equação são X e Y\r\n",
    "\r\n",
    "onde X e Y são os valor das raízes.\r\n",
    "\r\n",
    "Além disso, no caso de existirem 2 raízes reais distintas, elas devem ser impressas em ordem crescente. Exemplos:\r\n",
    "\r\n",
    "as raízes da equação são 1.0 e 2.0\r\n",
    "\r\n",
    "as raízes da equação são -2.0 e 0.0"
   ]
  },
  {
   "cell_type": "code",
   "execution_count": null,
   "id": "ec5f27a9-703c-428d-a4f3-53e0203721ea",
   "metadata": {},
   "outputs": [],
   "source": []
  }
 ],
 "metadata": {
  "kernelspec": {
   "display_name": "Python 3 (ipykernel)",
   "language": "python",
   "name": "python3"
  },
  "language_info": {
   "codemirror_mode": {
    "name": "ipython",
    "version": 3
   },
   "file_extension": ".py",
   "mimetype": "text/x-python",
   "name": "python",
   "nbconvert_exporter": "python",
   "pygments_lexer": "ipython3",
   "version": "3.11.7"
  }
 },
 "nbformat": 4,
 "nbformat_minor": 5
}
