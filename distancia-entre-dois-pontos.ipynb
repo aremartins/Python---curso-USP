{
 "cells": [
  {
   "cell_type": "markdown",
   "id": "65f232b0-4aa5-4bb9-a7c4-eff0ed1d9d6c",
   "metadata": {},
   "source": [
    "Receba 4 números na entrada, um de cada vez. Os dois primeiros devem corresponder, respectivamente, às coordenadas x e y de um ponto em um plano cartesiano. Os dois últimos devem corresponder, respectivamente, às coordenadas x e y de um outro ponto no mesmo plano.\r\n",
    "\r\n",
    "Calcule a distância entre os dois pontos. Se a distância for maior ou igual a 10, impri\n",
    "longe\r\n",
    "\r\n",
    "na saída. Caso o contrário, quando a distância for menor que 10, imprima\r\n",
    "\r\n",
    "p\n",
    "\n",
    "d = \\sqrt{(x_2 - x_1)^2 + (y_2 - y_1)^2}]e\r\n",
    "​\r\n",
    " ) \r\n",
    "2\r\n",
    " +(y \r\n",
    "1\r\n",
    "​\r\n",
    " −y \r\n",
    "2\r\n",
    "​\r\n",
    " ) \r\n",
    "2\r\n",
    " \r\n",
    "​\r\n",
    "ma"
   ]
  },
  {
   "cell_type": "code",
   "execution_count": 1,
   "id": "b5705d77-8a6a-4fa8-a107-7a3573567414",
   "metadata": {},
   "outputs": [
    {
     "name": "stdin",
     "output_type": "stream",
     "text": [
      "Digite o valor da coordenada X para o primeiro plano do ponto cartesiano:  10\n",
      "Digite o valor da coordenada Y para o primeiro plano do ponto cartesiano:  50\n",
      "Digite o valor da coordenada X para o segundo plano do ponto cartesiano:  60\n",
      "Digite o valor da coordenada Y para o segundo plano do ponto cartesiano:  84\n"
     ]
    },
    {
     "name": "stdout",
     "output_type": "stream",
     "text": [
      "longe\n"
     ]
    }
   ],
   "source": [
    "import math\n",
    "\n",
    "x_1 = int(input(\"Digite o valor da coordenada X para o primeiro plano do ponto cartesiano: \"))\n",
    "\n",
    "y_1 = int(input(\"Digite o valor da coordenada Y para o primeiro plano do ponto cartesiano: \"))\n",
    "\n",
    "x_2 = int(input(\"Digite o valor da coordenada X para o segundo plano do ponto cartesiano: \"))\n",
    "\n",
    "y_2 = int(input(\"Digite o valor da coordenada Y para o segundo plano do ponto cartesiano: \"))\n",
    "\n",
    "#fórmula d = \\sqrt{(x_2 - x_1)^2 + (y_2 - y_1)^2}\n",
    "\n",
    "\n",
    "distancia = math.sqrt((x_1 - y_1) ** 2 + (x_2 - y_2) ** 2)\n",
    "\n",
    "if(distancia >= 10):\n",
    "    print(\"longe\")\n",
    "else:\n",
    "    print(\"perto\")"
   ]
  },
  {
   "cell_type": "code",
   "execution_count": null,
   "id": "122f4034-b23a-460d-9585-c013bda48e76",
   "metadata": {},
   "outputs": [],
   "source": []
  }
 ],
 "metadata": {
  "kernelspec": {
   "display_name": "Python 3 (ipykernel)",
   "language": "python",
   "name": "python3"
  },
  "language_info": {
   "codemirror_mode": {
    "name": "ipython",
    "version": 3
   },
   "file_extension": ".py",
   "mimetype": "text/x-python",
   "name": "python",
   "nbconvert_exporter": "python",
   "pygments_lexer": "ipython3",
   "version": "3.11.7"
  }
 },
 "nbformat": 4,
 "nbformat_minor": 5
}
