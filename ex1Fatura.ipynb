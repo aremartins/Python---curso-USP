{
 "cells": [
  {
   "cell_type": "code",
   "execution_count": 6,
   "id": "53566ffc-9885-4a52-964f-14fdfaa5fa3a",
   "metadata": {},
   "outputs": [
    {
     "name": "stdin",
     "output_type": "stream",
     "text": [
      "Digite o nome do cliente:  Luan\n",
      "Digite o dia de vencimento:  10\n",
      "Digite o mês de vencimento:  Maio\n",
      "Digite o valor da fatura:  100\n"
     ]
    },
    {
     "name": "stdout",
     "output_type": "stream",
     "text": [
      "Olá, Luan.\n",
      "A sua fatura com vencimento em 10 de Maio no valor de R$ 100,00 está fechada.\n"
     ]
    }
   ],
   "source": [
    "nome = input(\"Digite o nome do cliente: \")\n",
    "diaVencimento = input(\"Digite o dia de vencimento: \")\n",
    "mesVencimento = input(\"Digite o mês de vencimento: \")\n",
    "valor = float(input(\"Digite o valor da fatura: \"))\n",
    "valorFormatado = \"{:,.2f}\".format(valor).replace('.',',')\n",
    "\n",
    "print(\"Olá, {}.\\nA sua fatura com vencimento em {} de {} no valor de R$ {} está fechada.\".format(nome, diaVencimento, mesVencimento, valorFormatado))"
   ]
  },
  {
   "cell_type": "code",
   "execution_count": null,
   "id": "123145a5-f551-4611-afaf-6b6745473676",
   "metadata": {},
   "outputs": [],
   "source": []
  }
 ],
 "metadata": {
  "kernelspec": {
   "display_name": "Python 3 (ipykernel)",
   "language": "python",
   "name": "python3"
  },
  "language_info": {
   "codemirror_mode": {
    "name": "ipython",
    "version": 3
   },
   "file_extension": ".py",
   "mimetype": "text/x-python",
   "name": "python",
   "nbconvert_exporter": "python",
   "pygments_lexer": "ipython3",
   "version": "3.11.7"
  }
 },
 "nbformat": 4,
 "nbformat_minor": 5
}
