{
 "cells": [
  {
   "cell_type": "markdown",
   "id": "827e18c9-915b-4ba1-bc9c-3a9522731a9b",
   "metadata": {},
   "source": [
    "Exercício 1 - Maior elemento de uma lista\r\n",
    "Escreva a função maior_elemento que recebe como parâmetro uma lista com números inteiros e devolve um número inteiro correspondente ao maior valor presente na lista recebida."
   ]
  },
  {
   "cell_type": "code",
   "execution_count": 22,
   "id": "3b541d84-d346-4b5c-8e62-53eef730513e",
   "metadata": {},
   "outputs": [],
   "source": [
    "def maior_elemento(lista):\n",
    "    maior = max(lista)\n",
    "    return maior"
   ]
  },
  {
   "cell_type": "code",
   "execution_count": 85,
   "id": "7ece2f49-86f3-4d09-b7db-730f83dd29af",
   "metadata": {},
   "outputs": [
    {
     "data": {
      "text/plain": [
       "48"
      ]
     },
     "execution_count": 85,
     "metadata": {},
     "output_type": "execute_result"
    }
   ],
   "source": [
    "nums = [0,2,5,9,7,48]\n",
    "maior_elemento(nums)\n",
    "\n"
   ]
  },
  {
   "cell_type": "code",
   "execution_count": null,
   "id": "9402e61d-b7ee-4148-accf-443cf32cf3fc",
   "metadata": {},
   "outputs": [],
   "source": []
  },
  {
   "cell_type": "markdown",
   "id": "ce6dca7a-db6b-4fc9-abd8-bb48ac606f40",
   "metadata": {},
   "source": [
    "Exercício 2 - Removendo elementos repetidos\n",
    "Escreva a função remove_repetidos que recebe como parâmetro uma lista com números inteiros, verifica se tal lista possui elementos repetidos e os remove. A função deve devolver uma lista correspondente à primeira lista, sem elementos repetidos. A lista devolvida deve estar ordenada.\n",
    "\n",
    "Dica: Você pode usar lista.sort() ou sorted(lista). Qual a diferença?"
   ]
  },
  {
   "cell_type": "code",
   "execution_count": 63,
   "id": "69bb3a8c-5201-4e11-988b-497ff0901401",
   "metadata": {},
   "outputs": [
    {
     "name": "stdout",
     "output_type": "stream",
     "text": [
      "[0, 2, 4, 5, 6]\n"
     ]
    }
   ],
   "source": [
    "def remove_repetidos(lista):\n",
    "    new_list = []\n",
    "    for i in lista:\n",
    "        if(i not in new_list):\n",
    "            new_list.append(i)\n",
    "    return sorted(new_list)\n",
    "        \n",
    "lista = [0,2,2,4,5,6,6]\n",
    "print(remove_repetidos(lista))\n",
    "            \n",
    "            \n",
    "    \n",
    "    "
   ]
  },
  {
   "cell_type": "code",
   "execution_count": null,
   "id": "ff870dab-3236-4db8-85d2-46b4a93ce4cd",
   "metadata": {},
   "outputs": [],
   "source": []
  },
  {
   "cell_type": "markdown",
   "id": "3a723d84-7619-4968-878f-8b0a5c764a8b",
   "metadata": {},
   "source": [
    "Exercício 3 - Soma dos elementos de uma lista\n",
    "Escreva a função soma_elementos que recebe como parâmetro uma lista com números inteiros e devolve um número inteiro correspondente à soma dos elementos da lista recebida."
   ]
  },
  {
   "cell_type": "code",
   "execution_count": 68,
   "id": "c01dd2fc-1489-4d39-a5e6-ec23337f1975",
   "metadata": {},
   "outputs": [
    {
     "name": "stdout",
     "output_type": "stream",
     "text": [
      "6\n"
     ]
    }
   ],
   "source": [
    "def soma(lista):\n",
    "    return sum(lista)\n",
    "lista = [1,2,3]\n",
    "print(soma(lista))"
   ]
  },
  {
   "cell_type": "code",
   "execution_count": null,
   "id": "0c856439-3f45-4923-8cfb-667cc382dec8",
   "metadata": {},
   "outputs": [],
   "source": []
  },
  {
   "cell_type": "markdown",
   "id": "413c5056-1622-41c6-96ea-3910d8af6a0a",
   "metadata": {},
   "source": [
    "Como pedido na primeira video-aula desta semana, escreva um programa que recebe uma sequência de números inteiros e imprima todos os valores em ordem inversa. A sequência sempre termina pelo número 0. Note que 0 (ZERO) não deve fazer parte da sequência."
   ]
  },
  {
   "cell_type": "code",
   "execution_count": 86,
   "id": "e3d4a703-43c3-41ec-8f3c-5600b20e7fbb",
   "metadata": {},
   "outputs": [
    {
     "name": "stdin",
     "output_type": "stream",
     "text": [
      "Digite um número (0 para terminar):  5\n",
      "Digite um número (0 para terminar):  6\n",
      "Digite um número (0 para terminar):  7\n",
      "Digite um número (0 para terminar):  0\n"
     ]
    },
    {
     "name": "stdout",
     "output_type": "stream",
     "text": [
      "7\n",
      "6\n",
      "5\n"
     ]
    }
   ],
   "source": [
    "def ler_sequencia():\n",
    "    sequencia = []\n",
    "    while True:\n",
    "        numero = int(input(\"Digite um número (0 para terminar): \"))\n",
    "        if numero == 0:\n",
    "            break\n",
    "        sequencia.append(numero)\n",
    "    return sequencia\n",
    "\n",
    "def imprimir_ordem_inversa(sequencia):\n",
    "    for numero in reversed(sequencia):\n",
    "        print(numero)\n",
    "\n",
    "sequencia = ler_sequencia()\n",
    "\n",
    "imprimir_ordem_inversa(sequencia)\n"
   ]
  },
  {
   "cell_type": "code",
   "execution_count": null,
   "id": "544faa88-511b-4af4-b161-acafaad8ff58",
   "metadata": {},
   "outputs": [],
   "source": []
  }
 ],
 "metadata": {
  "kernelspec": {
   "display_name": "Python 3 (ipykernel)",
   "language": "python",
   "name": "python3"
  },
  "language_info": {
   "codemirror_mode": {
    "name": "ipython",
    "version": 3
   },
   "file_extension": ".py",
   "mimetype": "text/x-python",
   "name": "python",
   "nbconvert_exporter": "python",
   "pygments_lexer": "ipython3",
   "version": "3.11.7"
  }
 },
 "nbformat": 4,
 "nbformat_minor": 5
}
