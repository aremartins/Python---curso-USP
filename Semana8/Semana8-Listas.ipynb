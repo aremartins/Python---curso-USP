{
 "cells": [
  {
   "cell_type": "markdown",
   "id": "2f53ba38-1123-4314-8174-888453355299",
   "metadata": {},
   "source": [
    "1- Receber uma lista de números inteiros do usuário, e quando for digitado o 0, imprimir a lista inversa."
   ]
  },
  {
   "cell_type": "code",
   "execution_count": 22,
   "id": "6e4554c2-3d17-46c4-ae09-a202bc68fdb8",
   "metadata": {},
   "outputs": [
    {
     "name": "stdin",
     "output_type": "stream",
     "text": [
      "Digite uma sequência de números. Para finalizar digite 0 5\n",
      "Digite uma sequência de números. Para finalizar digite 0 8\n",
      "Digite uma sequência de números. Para finalizar digite 0 96\n",
      "Digite uma sequência de números. Para finalizar digite 0 5\n",
      "Digite uma sequência de números. Para finalizar digite 0 0\n"
     ]
    },
    {
     "name": "stdout",
     "output_type": "stream",
     "text": [
      "[5, 96, 8, 5]\n",
      "[5, 96, 8, 5]\n"
     ]
    }
   ],
   "source": [
    "num = int(input('Digite uma sequência de números. Para finalizar digite 0'))\n",
    "list = []\n",
    "list.append(num)\n",
    "        \n",
    "while(num != 0):\n",
    "    num = int(input('Digite uma sequência de números. Para finalizar digite 0'))\n",
    "    list.append(num)\n",
    "    if(num == 0):\n",
    "        list.remove(0)\n",
    "        print(list[::-1])\n",
    "        list.reverse()\n",
    "        print(list)\n",
    "            \n"
   ]
  },
  {
   "cell_type": "code",
   "execution_count": null,
   "id": "7b643954-4ff9-471b-b995-347a7eadb85b",
   "metadata": {},
   "outputs": [],
   "source": []
  }
 ],
 "metadata": {
  "kernelspec": {
   "display_name": "Python 3 (ipykernel)",
   "language": "python",
   "name": "python3"
  },
  "language_info": {
   "codemirror_mode": {
    "name": "ipython",
    "version": 3
   },
   "file_extension": ".py",
   "mimetype": "text/x-python",
   "name": "python",
   "nbconvert_exporter": "python",
   "pygments_lexer": "ipython3",
   "version": "3.11.7"
  }
 },
 "nbformat": 4,
 "nbformat_minor": 5
}
