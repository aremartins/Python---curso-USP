{
 "cells": [
  {
   "cell_type": "markdown",
   "id": "d29dd8eb-56bb-404a-aebb-82d049029d5a",
   "metadata": {},
   "source": [
    "Exercício 1: O número de combinações possíveis de m elementos em grupos de n elementos (n <= m) é dada pela fórmula de combinação m!/((m-n)!n!).\n",
    "\n",
    "Escreva um programa que lê dois inteiros m e n e calcula a combinação de m, n a n."
   ]
  },
  {
   "cell_type": "code",
   "execution_count": 2,
   "id": "e24a49de-404f-4865-92de-ea349d517ce0",
   "metadata": {},
   "outputs": [
    {
     "name": "stdin",
     "output_type": "stream",
     "text": [
      "Digite o valor de m:  10\n",
      "Digite o valor de n:  2\n"
     ]
    },
    {
     "name": "stdout",
     "output_type": "stream",
     "text": [
      "A combinação de 10, 2 a 2 é igual a 45.0\n"
     ]
    }
   ],
   "source": [
    "m = int(input(\"Digite o valor de m: \"))\n",
    "n = int(input(\"Digite o valor de n: \"))\n",
    "\n",
    "#calcula fatorial de m\n",
    "k = m\n",
    "k_fat = 1\n",
    "cont = 1\n",
    "while cont < k:\n",
    "    cont += 1\n",
    "    k_fat *= cont\n",
    "   \n",
    "m_fatorial = k_fat\n",
    "\n",
    "\n",
    "#calcula fatorial de n\n",
    "j = n\n",
    "j_fat = 1\n",
    "i = 1\n",
    "\n",
    "while i < j:\n",
    "    i += 1\n",
    "    j_fat *= i\n",
    "n_fatorial = j_fat\n",
    "\n",
    "\n",
    "#calcula (m - n) fatorial\n",
    "q = m - n\n",
    "q_fat = 1\n",
    "contador = 1\n",
    "\n",
    "while contador < q:\n",
    "    contador += 1\n",
    "    q_fat *= contador\n",
    "mn_fatorial = q_fat\n",
    "\n",
    "\n",
    "\n",
    "combinacao = m_fatorial/(mn_fatorial * n_fatorial)\n",
    "print(f\"A combinação de {m}, {n} a {n} é igual a {combinacao}\")"
   ]
  },
  {
   "cell_type": "code",
   "execution_count": null,
   "id": "4add61d6-54af-46a9-adc9-bc865d37cfd2",
   "metadata": {},
   "outputs": [],
   "source": []
  },
  {
   "cell_type": "markdown",
   "id": "83fc3d2f-5b25-46e6-bf97-820afb419e9c",
   "metadata": {},
   "source": [
    "Exercício 2: O pedaço de código que calcula o fatorial é repetido várias vezes. Uma importante ferramenta computacional é a capacidade de abstrair partes relevantes e/ou que se repetem mais de uma vez na forma de funções. Crie uma função principal e as funções que irão fazer o cálculo do exercício anterior: "
   ]
  },
  {
   "cell_type": "code",
   "execution_count": 9,
   "id": "ddfef902-7a2e-4482-96d2-0e6ca787eafe",
   "metadata": {},
   "outputs": [
    {
     "name": "stdout",
     "output_type": "stream",
     "text": [
      "3628800\n"
     ]
    }
   ],
   "source": [
    "def main():\n",
    "    print(fatorial(10))\n",
    "\n",
    "\n",
    "def fatorial(x):\n",
    "    fat = x\n",
    "    cont = 1\n",
    "    x_fat = 1\n",
    "    while cont < fat:\n",
    "        cont += 1\n",
    "        x_fat *= cont\n",
    "    return x_fat\n",
    "\n",
    "\n",
    "if __name__ == '__main__': # chamada da funcao principal\n",
    "    main()\n",
    "    \n",
    "    "
   ]
  },
  {
   "cell_type": "markdown",
   "id": "68ad5c34-10d2-45e2-8b90-f60f1531d84e",
   "metadata": {},
   "source": [
    "Exercício 3: \n",
    "Usando a função do exercícioanterior2, escreva uma função que recebe dois inteiros, m e n, como parâmetros e retorna a combinação m!/((m-n)!n!)."
   ]
  },
  {
   "cell_type": "code",
   "execution_count": null,
   "id": "75a747ea-f935-4450-897d-2796645eaff7",
   "metadata": {},
   "outputs": [],
   "source": []
  },
  {
   "cell_type": "code",
   "execution_count": 13,
   "id": "539f9bd7-1e01-4b8e-98f8-21f7d1d6ba4e",
   "metadata": {},
   "outputs": [
    {
     "name": "stdout",
     "output_type": "stream",
     "text": [
      "Combinacao(4,2) = 6.0\n",
      "Combinacao(5,2) = 10.0\n",
      "Combinacao(10,4) = 210.0\n"
     ]
    }
   ],
   "source": [
    "def main():\n",
    "    ''' Testes da função combincao '''\n",
    "    print(\"Combinacao(4,2) =\", combinacao(4,2))\n",
    "    print(\"Combinacao(5,2) =\", combinacao(5,2))\n",
    "    print(\"Combinacao(10,4) =\", combinacao(10,4))\n",
    "\n",
    "def fatorial(x):\n",
    "    cont = 1\n",
    "    x_fat = 1\n",
    "    while cont < x:\n",
    "        cont += 1\n",
    "        x_fat *= cont\n",
    "    return x_fat\n",
    "    \n",
    "def combinacao(m, n):\n",
    "    return fatorial(m)/(fatorial(m-n) * fatorial(n))\n",
    "\n",
    "if __name__ == '__main__':\n",
    "    main()"
   ]
  },
  {
   "cell_type": "code",
   "execution_count": null,
   "id": "1794805b-14c0-4244-86d0-dc4c819c84da",
   "metadata": {},
   "outputs": [],
   "source": []
  },
  {
   "cell_type": "markdown",
   "id": "91d0ecf1-cefe-48d9-a97f-03379cd84fbe",
   "metadata": {},
   "source": [
    "Exercício 4: Usando a função do exercício anterior2, escreva uma função que recebe dois inteiros, m e n, como parâmetros e retorna a combinação m!/((m-n)!n!). Calcular o fatorial usando bibliotecas"
   ]
  },
  {
   "cell_type": "code",
   "execution_count": 14,
   "id": "6768cab1-7f29-4f34-9951-59e41a3a7658",
   "metadata": {},
   "outputs": [
    {
     "name": "stdout",
     "output_type": "stream",
     "text": [
      "Combinacao(4,2) = 6.0\n",
      "Combinacao(5,2) = 10.0\n",
      "Combinacao(10,4) = 210.0\n"
     ]
    }
   ],
   "source": [
    "import math \n",
    "\n",
    "def main():\n",
    "    ''' Testes da função combincao '''\n",
    "    print(\"Combinacao(4,2) =\", combinacao(4,2))\n",
    "    print(\"Combinacao(5,2) =\", combinacao(5,2))\n",
    "    print(\"Combinacao(10,4) =\", combinacao(10,4))\n",
    "\n",
    "  \n",
    "def combinacao(m, n):\n",
    "    return math.factorial(m)/(math.factorial(m-n) * math.factorial(n))\n",
    "\n",
    "if __name__ == '__main__':\n",
    "    main()"
   ]
  },
  {
   "cell_type": "code",
   "execution_count": null,
   "id": "35ace75a-a43f-4877-bd4d-d8fcc8cf8088",
   "metadata": {},
   "outputs": [],
   "source": []
  },
  {
   "cell_type": "markdown",
   "id": "f9dcc6fb-abb9-4c2b-a697-ff0f7ca88b66",
   "metadata": {},
   "source": [
    "Exercício 4\r\n",
    "Usando as funções fatorial e combinacao dos exercícios anteriores, escreva um programa que lê um inteiro n, n >= 0 e imprime os coeficientes da expansão de (x+y) elevado a n.\r\n",
    "\r\n",
    "Lembre-se de utilizar o esqueleto de programa com funções em Python."
   ]
  },
  {
   "cell_type": "code",
   "execution_count": 29,
   "id": "5c963795-8c6c-4bfb-a553-b6339ad58db7",
   "metadata": {},
   "outputs": [
    {
     "name": "stdin",
     "output_type": "stream",
     "text": [
      "Digite n:  5\n"
     ]
    },
    {
     "name": "stdout",
     "output_type": "stream",
     "text": [
      "Coeficientes para (x + y)^5:  [1.0, 5.0, 10.0, 10.0, 5.0, 1.0]\n",
      "Coeficiente de x^5 y^0: 1.0\n",
      "Coeficiente de x^4 y^1: 5.0\n",
      "Coeficiente de x^3 y^2: 10.0\n",
      "Coeficiente de x^2 y^3: 10.0\n",
      "Coeficiente de x^1 y^4: 5.0\n",
      "Coeficiente de x^0 y^5: 1.0\n"
     ]
    }
   ],
   "source": [
    "def main():\n",
    "    n = int(input(\"Digite n: \"))\n",
    "    ''' Testes da função combincao '''     \n",
    "    print(f\"Coeficientes para (x + y)^{n}: \", coeficientes(n)) \n",
    "    coeficienteLista = coeficientes(n)\n",
    "    for k, coef in enumerate(coeficienteLista):\n",
    "         print(f\"Coeficiente de x^{n-k} y^{k}: {coef}\")\n",
    "\n",
    "def fatorial(x):\n",
    "    cont = 1\n",
    "    x_fat = 1\n",
    "    while cont < x:\n",
    "        cont += 1\n",
    "        x_fat *= cont\n",
    "    return x_fat\n",
    "    \n",
    "def combinacao(m, n):\n",
    "    return fatorial(m)/(fatorial(m-n) * fatorial(n))\n",
    "\n",
    "def coeficientes(n):\n",
    "    if n < 0:\n",
    "        return []\n",
    "    \n",
    "    coefs = []\n",
    "    for k in range(n + 1): \n",
    "        coefs.append(combinacao(n, k))\n",
    "    return coefs\n",
    "\n",
    "if __name__ == '__main__':\n",
    "    main()"
   ]
  },
  {
   "cell_type": "code",
   "execution_count": null,
   "id": "87a46f16-acaa-4747-be5a-bd65b7665ad0",
   "metadata": {},
   "outputs": [],
   "source": []
  },
  {
   "cell_type": "markdown",
   "id": "4cae9f31-1a7c-46df-9712-2b71aedb78a9",
   "metadata": {},
   "source": [
    "Exercício 5: Implementar uma função para calcular as raízes de uma equação quadrática usando a Fórmula de Bhaskara:"
   ]
  },
  {
   "cell_type": "code",
   "execution_count": 41,
   "id": "3813064d-d64d-4353-a226-eab2a63a980e",
   "metadata": {},
   "outputs": [
    {
     "name": "stdin",
     "output_type": "stream",
     "text": [
      "Informe o valor de a:  5\n",
      "Informe o valor de b:  20\n",
      "Informe o valor de c:  5\n"
     ]
    },
    {
     "name": "stdout",
     "output_type": "stream",
     "text": [
      "300\n",
      "As raízes da equação são -3.7320508075688776, -0.26794919243112253. Onde -3.7320508075688776 e -0.26794919243112253 são os valores da raízes\n"
     ]
    }
   ],
   "source": [
    "import math\n",
    "\n",
    "def main():\n",
    "    a = int(input(\"Informe o valor de a: \"))\n",
    "    b = int(input(\"Informe o valor de b: \"))\n",
    "    c = int(input(\"Informe o valor de c: \"))\n",
    "    imprime_raizes(a, b, c)\n",
    "\n",
    "def delta(a, b, c):\n",
    "    return b ** 2 - 4 * a * c\n",
    "\n",
    "def imprime_raizes(a, b, c):\n",
    "    delt = delta(a, b, c)\n",
    "    print(delt)\n",
    "    if(delt >= 0 ):\n",
    "        raiz1 = (-b + math.sqrt(delt)) / (2 * a)\n",
    "        raiz2 = (-b - math.sqrt(delt)) / ( 2 * a)  \n",
    "    if(delt == 0):       \n",
    "        print(\"A raiz quadrada é {}\".format(raiz1))\n",
    "    elif delt < 0:\n",
    "        print(\"Esta equação não possui raízes reais\")\n",
    "    elif delt > 0:\n",
    "        if raiz1 != raiz2:\n",
    "            menor = min(raiz1, raiz2)\n",
    "            maior =  max(raiz1, raiz2)        \n",
    "            print(\"As raízes da equação são {}, {}. Onde {} e {} são os valores da raízes\".format(menor, maior, menor, maior))\n",
    "        else:\n",
    "            print(\"As raízes da equação são {}, {}. Onde {} e {} são os valores da raízes\".format(raiz1, raiz2, raiz1, raiz2))\n",
    "        \n",
    "   \n",
    "if __name__ == '__main__':\n",
    "    main()"
   ]
  },
  {
   "cell_type": "code",
   "execution_count": null,
   "id": "67065dee-62b6-4651-8565-a144eb16fe6c",
   "metadata": {},
   "outputs": [],
   "source": []
  },
  {
   "cell_type": "code",
   "execution_count": null,
   "id": "d8fff0cb-c309-48d8-aba4-05bb315dcf44",
   "metadata": {},
   "outputs": [],
   "source": []
  }
 ],
 "metadata": {
  "kernelspec": {
   "display_name": "Python 3 (ipykernel)",
   "language": "python",
   "name": "python3"
  },
  "language_info": {
   "codemirror_mode": {
    "name": "ipython",
    "version": 3
   },
   "file_extension": ".py",
   "mimetype": "text/x-python",
   "name": "python",
   "nbconvert_exporter": "python",
   "pygments_lexer": "ipython3",
   "version": "3.11.7"
  }
 },
 "nbformat": 4,
 "nbformat_minor": 5
}
