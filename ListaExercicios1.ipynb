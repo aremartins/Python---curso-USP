{
 "cells": [
  {
   "cell_type": "code",
   "execution_count": 17,
   "id": "30e32aa3-7075-4dec-a3e9-4d0b22c3e349",
   "metadata": {},
   "outputs": [
    {
     "name": "stdin",
     "output_type": "stream",
     "text": [
      "Informe o valor do lado do quadrado:  3\n"
     ]
    },
    {
     "name": "stdout",
     "output_type": "stream",
     "text": [
      "Perímetro: 12 - área 9\n"
     ]
    }
   ],
   "source": [
    "#Faça um programa em Python que receba (entrada de dados) o valor correspondente ao lado de um quadrado, calcule e imprima (saída de dados) \n",
    "#seu perímetro e sua área.\n",
    "lado = int(input(\"Informe o valor do lado do quadrado: \"))\n",
    "print(\"Perímetro:\" , lado * 4, \"- área\", lado**2)"
   ]
  },
  {
   "cell_type": "code",
   "execution_count": 16,
   "id": "41f8b630-c44f-4773-9f8a-4c2a8a0038cd",
   "metadata": {},
   "outputs": [
    {
     "name": "stdin",
     "output_type": "stream",
     "text": [
      "Informe a nota:  5\n",
      "Informe a nota:  3\n",
      "Informe a nota:  6\n",
      "Informe a nota:  7\n"
     ]
    },
    {
     "name": "stdout",
     "output_type": "stream",
     "text": [
      "A media aritmetica é 5.25\n"
     ]
    }
   ],
   "source": [
    "#Faça um programa em Python que receba quatro notas, calcule e imprima a média aritmética.\n",
    "listaNotas = []\n",
    "for i in range(4):\n",
    "    nota = float(input(\"Informe a nota: \"))\n",
    "    listaNotas.append(nota)\n",
    "media = sum(listaNotas) / 4\n",
    "print(\"A media aritmetica é {}\".format(media))   "
   ]
  },
  {
   "cell_type": "code",
   "execution_count": null,
   "id": "a64a7ff7-4edb-46f8-9d09-2b27568ddf2b",
   "metadata": {},
   "outputs": [],
   "source": []
  }
 ],
 "metadata": {
  "kernelspec": {
   "display_name": "Python 3 (ipykernel)",
   "language": "python",
   "name": "python3"
  },
  "language_info": {
   "codemirror_mode": {
    "name": "ipython",
    "version": 3
   },
   "file_extension": ".py",
   "mimetype": "text/x-python",
   "name": "python",
   "nbconvert_exporter": "python",
   "pygments_lexer": "ipython3",
   "version": "3.11.7"
  }
 },
 "nbformat": 4,
 "nbformat_minor": 5
}
