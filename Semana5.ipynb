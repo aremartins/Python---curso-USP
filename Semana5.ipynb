{
 "cells": [
  {
   "cell_type": "markdown",
   "id": "b84e3fbf-33e2-4b90-936d-770a07da73e6",
   "metadata": {},
   "source": [
    "Exercício 1: Escreva a função maior_primo que recebe um número inteiro maior ou igual a 2 como parâmetro e devolve o maior número primo menor ou igual ao número passado à função:n:"
   ]
  },
  {
   "cell_type": "code",
   "execution_count": 5,
   "id": "6041918e-1209-4ec1-a166-b87eabd8bc79",
   "metadata": {},
   "outputs": [
    {
     "name": "stdin",
     "output_type": "stream",
     "text": [
      "Numero:  9\n"
     ]
    },
    {
     "data": {
      "text/plain": [
       "7"
      ]
     },
     "execution_count": 5,
     "metadata": {},
     "output_type": "execute_result"
    }
   ],
   "source": [
    "num_digitado = int(input(\"Numero: \"))\n",
    "\n",
    "def maior_primo(num):\n",
    "    if num < 2:\n",
    "        return \"Informe um valor maior ou igual a 2.\"\n",
    "    \n",
    "    for i in range(num, 1, -1):        \n",
    "        is_primo = True\n",
    "        for j in range(2, i):\n",
    "            if i % j == 0:\n",
    "                is_primo = False\n",
    "                break\n",
    "        if is_primo:\n",
    "            return i\n",
    "\n",
    "maior_primo(num_digitado)"
   ]
  },
  {
   "cell_type": "markdown",
   "id": "0549ee1f-3e22-41b3-b2a4-96cdd6cd58f0",
   "metadata": {},
   "source": [
    "Exercício 2:\n",
    "Escreva a função maximo que recebe 2 números inteiros como parâmetro e devolve o maior deles:"
   ]
  },
  {
   "cell_type": "code",
   "execution_count": 6,
   "id": "f8e62284-0ce8-49f8-818c-5a0cf19b6e76",
   "metadata": {},
   "outputs": [
    {
     "name": "stdout",
     "output_type": "stream",
     "text": [
      "O número maior é 20\n"
     ]
    }
   ],
   "source": [
    "def maximo(x, y):\n",
    "    result = max(x, y)\n",
    "    return result\n",
    "\n",
    "\n",
    "result = maximo(10,20)\n",
    "print(f\"O número maior é {result}\")\n",
    "    "
   ]
  },
  {
   "cell_type": "markdown",
   "id": "5807042a-a7f3-4a30-9d5c-fe610d0b15fb",
   "metadata": {},
   "source": [
    "Exercício 3:\n",
    "Escreva a função vogal que recebe um único caractere como parâmetro e devolve True se ele for uma vogal e False se for uma consoante."
   ]
  },
  {
   "cell_type": "code",
   "execution_count": 11,
   "id": "9c912b25-3989-4035-9bb2-e64ebd6eac27",
   "metadata": {},
   "outputs": [],
   "source": [
    "vogais = ['a', 'e', 'i', 'o', 'u', 'A', 'E', 'I', 'O', 'U']\n",
    "\n",
    "\n",
    "consoantes = [\n",
    "    'b', 'c', 'd', 'f', 'g', 'h', 'j', 'k', 'l', 'm', \n",
    "    'n', 'p', 'q', 'r', 's', 't', 'v', 'w', 'x', 'y', 'z',\n",
    "    'B', 'C', 'D', 'F', 'G', 'H', 'J', 'K', 'L', 'M', \n",
    "    'N', 'P', 'Q', 'R', 'S', 'T', 'V', 'W', 'X', 'Y', 'Z'\n",
    "]\n",
    "\n",
    "def vogal(x):\n",
    "    if x.lower() in vogais:\n",
    "        return True\n",
    "    elif x.lower() in consoantes:\n",
    "        return False\n",
    "        "
   ]
  },
  {
   "cell_type": "code",
   "execution_count": null,
   "id": "baa87f74-dde2-4d99-a877-a3ad3b2292ba",
   "metadata": {},
   "outputs": [],
   "source": []
  }
 ],
 "metadata": {
  "kernelspec": {
   "display_name": "Python 3 (ipykernel)",
   "language": "python",
   "name": "python3"
  },
  "language_info": {
   "codemirror_mode": {
    "name": "ipython",
    "version": 3
   },
   "file_extension": ".py",
   "mimetype": "text/x-python",
   "name": "python",
   "nbconvert_exporter": "python",
   "pygments_lexer": "ipython3",
   "version": "3.11.7"
  }
 },
 "nbformat": 4,
 "nbformat_minor": 5
}
