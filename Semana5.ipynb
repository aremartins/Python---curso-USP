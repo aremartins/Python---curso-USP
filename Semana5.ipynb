{
 "cells": [
  {
   "cell_type": "markdown",
   "id": "b84e3fbf-33e2-4b90-936d-770a07da73e6",
   "metadata": {},
   "source": [
    "Exercício 1: Escreva a função maior_primo que recebe um número inteiro maior ou igual a 2 como parâmetro e devolve o maior número primo menor ou igual ao número passado à função:n:"
   ]
  },
  {
   "cell_type": "code",
   "execution_count": 5,
   "id": "6041918e-1209-4ec1-a166-b87eabd8bc79",
   "metadata": {},
   "outputs": [
    {
     "name": "stdin",
     "output_type": "stream",
     "text": [
      "Numero:  9\n"
     ]
    },
    {
     "data": {
      "text/plain": [
       "7"
      ]
     },
     "execution_count": 5,
     "metadata": {},
     "output_type": "execute_result"
    }
   ],
   "source": [
    "num_digitado = int(input(\"Numero: \"))\n",
    "\n",
    "def maior_primo(num):\n",
    "    if num < 2:\n",
    "        return \"Informe um valor maior ou igual a 2.\"\n",
    "    \n",
    "    for i in range(num, 1, -1):        \n",
    "        is_primo = True\n",
    "        for j in range(2, i):\n",
    "            if i % j == 0:\n",
    "                is_primo = False\n",
    "                break\n",
    "        if is_primo:\n",
    "            return i\n",
    "\n",
    "maior_primo(num_digitado)"
   ]
  },
  {
   "cell_type": "markdown",
   "id": "0549ee1f-3e22-41b3-b2a4-96cdd6cd58f0",
   "metadata": {},
   "source": [
    "Exercício 2:\n",
    "Escreva a função maximo que recebe 2 números inteiros como parâmetro e devolve o maior deles:"
   ]
  },
  {
   "cell_type": "code",
   "execution_count": 6,
   "id": "f8e62284-0ce8-49f8-818c-5a0cf19b6e76",
   "metadata": {},
   "outputs": [
    {
     "name": "stdout",
     "output_type": "stream",
     "text": [
      "O número maior é 20\n"
     ]
    }
   ],
   "source": [
    "def maximo(x, y):\n",
    "    result = max(x, y)\n",
    "    return result\n",
    "\n",
    "\n",
    "result = maximo(10,20)\n",
    "print(f\"O número maior é {result}\")\n",
    "    "
   ]
  },
  {
   "cell_type": "markdown",
   "id": "5807042a-a7f3-4a30-9d5c-fe610d0b15fb",
   "metadata": {},
   "source": [
    "Exercício 3:\n",
    "Escreva a função vogal que recebe um único caractere como parâmetro e devolve True se ele for uma vogal e False se for uma consoante."
   ]
  },
  {
   "cell_type": "code",
   "execution_count": 11,
   "id": "9c912b25-3989-4035-9bb2-e64ebd6eac27",
   "metadata": {},
   "outputs": [],
   "source": [
    "vogais = ['a', 'e', 'i', 'o', 'u', 'A', 'E', 'I', 'O', 'U']\n",
    "\n",
    "\n",
    "consoantes = [\n",
    "    'b', 'c', 'd', 'f', 'g', 'h', 'j', 'k', 'l', 'm', \n",
    "    'n', 'p', 'q', 'r', 's', 't', 'v', 'w', 'x', 'y', 'z',\n",
    "    'B', 'C', 'D', 'F', 'G', 'H', 'J', 'K', 'L', 'M', \n",
    "    'N', 'P', 'Q', 'R', 'S', 'T', 'V', 'W', 'X', 'Y', 'Z'\n",
    "]\n",
    "\n",
    "def vogal(x):\n",
    "    if x.lower() in vogais:\n",
    "        return True\n",
    "    elif x.lower() in consoantes:\n",
    "        return False\n",
    "        "
   ]
  },
  {
   "cell_type": "markdown",
   "id": "ba8ec54a-af41-47eb-899b-ada00339e364",
   "metadata": {},
   "source": [
    "Exercício 4: FizzBuzz\r\n",
    "Escreva a função fizzbuzz que recebe como parâmetro um número inteiro e devolve\r\n",
    "\r\n",
    "'Fizz' se o número for divisível por 3 e não for divisível por 5;\r\n",
    "\r\n",
    "'Buzz' se o número for divisível por 5 e não for divisível por 3;\r\n",
    "\r\n",
    "'FizzBuzz' se o número for divisível por 3 e por 5;\r\n",
    "\r\n",
    "Caso o número não seja divisível 3 e também não seja divisível por 5, ela deve devolver o número recebido como parâmetro."
   ]
  },
  {
   "cell_type": "code",
   "execution_count": 21,
   "id": "0f509516-e4d5-4951-9814-4f0bec50658b",
   "metadata": {},
   "outputs": [
    {
     "name": "stdin",
     "output_type": "stream",
     "text": [
      "Digite um numero:  15\n"
     ]
    },
    {
     "name": "stdout",
     "output_type": "stream",
     "text": [
      "FizzBuzz\n"
     ]
    }
   ],
   "source": [
    "num = int(input(\"Digite um numero: \"))\n",
    "\n",
    "def fizzbuzz(x):\n",
    "    \n",
    "    if (x % 3 == 0) and not ( x % 5 == 0):\n",
    "        return 'Fizz'\n",
    "    elif(( x % 5 == 0) and not (x % 3 == 0)):\n",
    "        return 'Buzz'\n",
    "    elif((x % 3 == 0) and (x % 5 == 0)):\n",
    "        return 'FizzBuzz'\n",
    "    elif((x % 3 != 0) and (x % 5 != 0)):\n",
    "        return x\n",
    "    \n",
    "print(fizzbuzz(num))"
   ]
  },
  {
   "cell_type": "markdown",
   "id": "984662d5-62d0-4e03-afbb-ced104c029c1",
   "metadata": {},
   "source": [
    "Exercício 5: Máximo com 3 parâmetros\r\n",
    "Reescreva a função 'maximo' do outro exercício, que devolve o maior valor dentre dois inteiros recebidos, para que ela passe a receber 3 valores inteiros como parâmetros e devolva o maior dentre eles."
   ]
  },
  {
   "cell_type": "code",
   "execution_count": 13,
   "id": "48d6cdc8-6a7e-4233-b199-7dddfcf9687e",
   "metadata": {},
   "outputs": [
    {
     "name": "stdout",
     "output_type": "stream",
     "text": [
      "50\n"
     ]
    }
   ],
   "source": [
    "def maximo(x,y,z):\n",
    "    maximo = max(x, y, z)\n",
    "    return maximo\n",
    "\n",
    "\n",
    "print(maximo(10, 30, 50))\n"
   ]
  },
  {
   "cell_type": "markdown",
   "id": "b587f129-e2b8-4847-aedb-4af09040bf5e",
   "metadata": {},
   "source": [
    "Exercício 6: O número de combinações possíveis de m elementos em grupos de n elementos (n <= m) é dada pela fórmula de combinação m!/((m-n)!n!).\r\n",
    "\r\n",
    "Escreva um programa que lê dois inteiros m e n e calcula a combinação de m, n a n."
   ]
  },
  {
   "cell_type": "code",
   "execution_count": 18,
   "id": "832a54c8-a2fc-47b9-93b4-c3ec757813ba",
   "metadata": {},
   "outputs": [
    {
     "name": "stdin",
     "output_type": "stream",
     "text": [
      "Digite o valor de m:  10\n",
      "Digite o valor de n:  2\n"
     ]
    },
    {
     "name": "stdout",
     "output_type": "stream",
     "text": [
      "A combinação de 10, 2 a 2 é igual a 45.0\n"
     ]
    }
   ],
   "source": [
    "m = int(input(\"Digite o valor de m: \"))\n",
    "n = int(input(\"Digite o valor de n: \"))\n",
    "\n",
    "#calcula fatorial de m\n",
    "k = m\n",
    "k_fat = 1\n",
    "cont = 1\n",
    "while cont < k:\n",
    "    cont += 1\n",
    "    k_fat *= cont\n",
    "   \n",
    "m_fatorial = k_fat\n",
    "\n",
    "\n",
    "#calcula fatorial de n\n",
    "j = n\n",
    "j_fat = 1\n",
    "i = 1\n",
    "\n",
    "while i < j:\n",
    "    i += 1\n",
    "    j_fat *= i\n",
    "n_fatorial = j_fat\n",
    "\n",
    "\n",
    "#calcula (m - n) fatorial\n",
    "q = m - n\n",
    "q_fat = 1\n",
    "contador = 1\n",
    "\n",
    "while contador < q:\n",
    "    contador += 1\n",
    "    q_fat *= contador\n",
    "mn_fatorial = q_fat\n",
    "\n",
    "\n",
    "\n",
    "combinacao = m_fatorial/(mn_fatorial * n_fatorial)\n",
    "print(f\"A combinação de {m}, {n} a {n} é igual a {combinacao}\")"
   ]
  },
  {
   "cell_type": "code",
   "execution_count": null,
   "id": "f5a0fc33-dac7-40db-993f-45dd240405d2",
   "metadata": {},
   "outputs": [],
   "source": []
  },
  {
   "cell_type": "code",
   "execution_count": null,
   "id": "74832b72-dc76-40be-b1d2-63ebc5bf10e4",
   "metadata": {},
   "outputs": [],
   "source": []
  },
  {
   "cell_type": "code",
   "execution_count": null,
   "id": "00190176-cb0e-4df0-a2b6-b6513367bcc4",
   "metadata": {},
   "outputs": [],
   "source": []
  }
 ],
 "metadata": {
  "kernelspec": {
   "display_name": "Python 3 (ipykernel)",
   "language": "python",
   "name": "python3"
  },
  "language_info": {
   "codemirror_mode": {
    "name": "ipython",
    "version": 3
   },
   "file_extension": ".py",
   "mimetype": "text/x-python",
   "name": "python",
   "nbconvert_exporter": "python",
   "pygments_lexer": "ipython3",
   "version": "3.11.7"
  }
 },
 "nbformat": 4,
 "nbformat_minor": 5
}
